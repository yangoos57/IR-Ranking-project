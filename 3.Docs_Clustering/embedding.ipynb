{
 "cells": [
  {
   "cell_type": "code",
   "execution_count": 2,
   "metadata": {},
   "outputs": [],
   "source": [
    "from transformers import ElectraModel, ElectraTokenizerFast\n",
    "from sklearn.metrics.pairwise import cosine_similarity\n",
    "from model import modelWithPooling\n",
    "import pandas as pd\n",
    "import numpy as np\n",
    "import torch\n",
    "\n",
    "\n",
    "model = ElectraModel.from_pretrained(\"../model/disc_book_final\")\n",
    "tokenizer = ElectraTokenizerFast.from_pretrained(\"monologg/koelectra-base-v3-discriminator\")\n",
    "\n",
    "model_with_pooling = modelWithPooling(model, tokenizer).to('mps')\n"
   ]
  },
  {
   "cell_type": "code",
   "execution_count": 2,
   "metadata": {},
   "outputs": [],
   "source": [
    "data =  pd.read_csv('../data/bookList/pre_book_total_128.csv',index_col=0)['sen'].values"
   ]
  },
  {
   "cell_type": "code",
   "execution_count": null,
   "metadata": {},
   "outputs": [],
   "source": [
    "from datasets import Dataset\n",
    "from torch.utils.data import DataLoader\n",
    "from tqdm.notebook import tqdm\n",
    "dataset = Dataset.from_pandas(pd.DataFrame(data, columns=['sen']))\n",
    "\n",
    "def tokenizing_function(batch) :\n",
    "    lst = []\n",
    "    for i in batch :\n",
    "        lst.append(i['sen'])\n",
    "\n",
    "    return tokenizer(lst,truncation=True,padding=True,return_tensors='pt')\n",
    "    \n",
    "\n",
    "dataloader = DataLoader(dataset.select(range(32)),16,collate_fn=tokenizing_function)\n",
    "\n",
    "model_with_pooling.eval()\n",
    "\n",
    "lst = []\n",
    "for num, item in enumerate(tqdm(dataloader)) :\n",
    "    item.to('mps')\n",
    "    x = model_with_pooling(**item)['sentence_embedding'].detach()\n",
    "    lst.append(x)\n",
    "    if num % 1000 == 0 and num != 0 :    \n",
    "        torch.save(torch.cat(lst),f'save/embedding_{num}.pt')\n",
    "        lst.clear()"
   ]
  },
  {
   "cell_type": "markdown",
   "metadata": {},
   "source": [
    "### Doc Extraction"
   ]
  },
  {
   "cell_type": "code",
   "execution_count": 12,
   "metadata": {},
   "outputs": [
    {
     "data": {
      "text/html": [
       "<div>\n",
       "<style scoped>\n",
       "    .dataframe tbody tr th:only-of-type {\n",
       "        vertical-align: middle;\n",
       "    }\n",
       "\n",
       "    .dataframe tbody tr th {\n",
       "        vertical-align: top;\n",
       "    }\n",
       "\n",
       "    .dataframe thead th {\n",
       "        text-align: right;\n",
       "    }\n",
       "</style>\n",
       "<table border=\"1\" class=\"dataframe\">\n",
       "  <thead>\n",
       "    <tr style=\"text-align: right;\">\n",
       "      <th></th>\n",
       "      <th>book_title</th>\n",
       "      <th>book_toc</th>\n",
       "      <th>book_intro</th>\n",
       "      <th>publisher</th>\n",
       "    </tr>\n",
       "  </thead>\n",
       "  <tbody>\n",
       "    <tr>\n",
       "      <th>0</th>\n",
       "      <td>한 권으로 끝내는 메타버스 크리에이터</td>\n",
       "      <td>['메타버스란', '왜 메타버스인가', '메타버스의 유형을 알아보자', '메타버스 ...</td>\n",
       "      <td>[]</td>\n",
       "      <td>[]</td>\n",
       "    </tr>\n",
       "    <tr>\n",
       "      <th>1</th>\n",
       "      <td>Do it! 점프 투 파이썬: 라이브러리 예제 편</td>\n",
       "      <td>['', '텍스트 다루기', '문자열을 줄여 표시하려면 textwrap shorte...</td>\n",
       "      <td>['이 책은 Do it 점프 투 파이썬 의 박응용 저자가 그동안 수많은 독자에게 받...</td>\n",
       "      <td>['실무에서 자주 쓰는 파이썬 라이브러리는 다 있다 필수 파이썬 라이브러리 개 엄선...</td>\n",
       "    </tr>\n",
       "  </tbody>\n",
       "</table>\n",
       "</div>"
      ],
      "text/plain": [
       "                    book_title  \\\n",
       "0         한 권으로 끝내는 메타버스 크리에이터   \n",
       "1  Do it! 점프 투 파이썬: 라이브러리 예제 편   \n",
       "\n",
       "                                            book_toc  \\\n",
       "0  ['메타버스란', '왜 메타버스인가', '메타버스의 유형을 알아보자', '메타버스 ...   \n",
       "1  ['', '텍스트 다루기', '문자열을 줄여 표시하려면 textwrap shorte...   \n",
       "\n",
       "                                          book_intro  \\\n",
       "0                                                 []   \n",
       "1  ['이 책은 Do it 점프 투 파이썬 의 박응용 저자가 그동안 수많은 독자에게 받...   \n",
       "\n",
       "                                           publisher  \n",
       "0                                                 []  \n",
       "1  ['실무에서 자주 쓰는 파이썬 라이브러리는 다 있다 필수 파이썬 라이브러리 개 엄선...  "
      ]
     },
     "execution_count": 12,
     "metadata": {},
     "output_type": "execute_result"
    }
   ],
   "source": [
    "import utils\n",
    "from transformers import ElectraModel, ElectraTokenizerFast\n",
    "from sklearn.metrics.pairwise import cosine_similarity\n",
    "from model import modelWithPooling\n",
    "import pandas as pd\n",
    "import numpy as np\n",
    "import torch\n",
    "\n",
    "device='mps'\n",
    "model = ElectraModel.from_pretrained(\"../model/bi_encoder_finish\")\n",
    "tokenizer = ElectraTokenizerFast.from_pretrained(\"monologg/koelectra-base-v3-discriminator\")\n",
    "\n",
    "model_with_pooling = modelWithPooling(model, tokenizer).to(device)\n",
    "\n",
    "raw_data = pd.read_csv(\"../data/bookList/raw_book_info_list.csv\", index_col=0)\n",
    "\n",
    "englist= pd.read_csv('../data/preprocess/englist.csv')\n",
    "\n",
    "raw_data.head(2)"
   ]
  },
  {
   "cell_type": "code",
   "execution_count": null,
   "metadata": {},
   "outputs": [],
   "source": []
  },
  {
   "cell_type": "code",
   "execution_count": 2,
   "metadata": {},
   "outputs": [],
   "source": [
    "def tokenizing_function(text,max_length=128):\n",
    "    token = tokenizer(\n",
    "        text,\n",
    "        truncation=True,\n",
    "        padding=True,\n",
    "        max_length=max_length,\n",
    "        stride=20,\n",
    "        return_overflowing_tokens=True,\n",
    "        return_tensors=\"pt\",\n",
    "    )\n",
    "    token.pop(\"overflow_to_sample_mapping\")\n",
    "    return token"
   ]
  },
  {
   "cell_type": "code",
   "execution_count": 37,
   "metadata": {},
   "outputs": [
    {
     "data": {
      "application/vnd.jupyter.widget-view+json": {
       "model_id": "c0b9e2303d7b492885cb01b10bed4f58",
       "version_major": 2,
       "version_minor": 0
      },
      "text/plain": [
       "  0%|          | 0/1 [00:00<?, ?it/s]"
      ]
     },
     "metadata": {},
     "output_type": "display_data"
    }
   ],
   "source": [
    "from ast import literal_eval\n",
    "from datasets import Dataset\n",
    "from torch.utils.data import DataLoader\n",
    "from tqdm.notebook import tqdm\n",
    "import utils\n",
    "import re\n",
    "\n",
    "dataset = Dataset.from_pandas(raw_data.reset_index(drop=True))\n",
    "dataloader = DataLoader(dataset.select(range(3,4)),batch_size=1)\n",
    "\n",
    "lst = []\n",
    "for n, x in enumerate(tqdm(dataloader)) :\n",
    "    # 제목 \n",
    "    title = x.pop(\"book_title\")[0]\n",
    "\n",
    "    x = [literal_eval(v[0]) for k,v in x.items()]\n",
    "    x = [v for j in x for v in j ]\n",
    "\n",
    "    x = list(filter(None, x))\n",
    "    x = re.sub(r\"[^\\w\\s]\", \"\", \" \".join(x))\n",
    "    doc = utils.trans_eng_to_han(x, englist=englist)\n",
    "    doc = ' '.join(doc)\n",
    "\n",
    "\n",
    "    # 전체 Embedding\n",
    "    token = tokenizing_function(doc).to(device)\n",
    "    logits = model_with_pooling(**token)[\"sentence_embedding\"]\n",
    "    logits = logits.detach()\n",
    "\n",
    "    # 대표 Embedding\n",
    "    doc_embedding = torch.sum(logits,dim=0)/logits.size(0)\n",
    "    doc_embedding = doc_embedding.unsqueeze(0)\n",
    "    \n",
    "    lst.append(dict(title=title,rep_embedding=doc_embedding))\n",
    "\n",
    "    if n % 1000 == 0 and n != 0 :    \n",
    "        torch.save(lst,f'save/bi_encoder_doc_{int(n/1000)}.pt')\n",
    "        lst.clear()"
   ]
  },
  {
   "cell_type": "code",
   "execution_count": 39,
   "metadata": {},
   "outputs": [
    {
     "data": {
      "text/plain": [
       "tensor(-14.9516, device='mps:0')"
      ]
     },
     "execution_count": 39,
     "metadata": {},
     "output_type": "execute_result"
    }
   ],
   "source": [
    "torch.sum(lst[0]['rep_embedding'])"
   ]
  }
 ],
 "metadata": {
  "kernelspec": {
   "display_name": "Python 3",
   "language": "python",
   "name": "python3"
  },
  "language_info": {
   "codemirror_mode": {
    "name": "ipython",
    "version": 3
   },
   "file_extension": ".py",
   "mimetype": "text/x-python",
   "name": "python",
   "nbconvert_exporter": "python",
   "pygments_lexer": "ipython3",
   "version": "3.9.1"
  },
  "orig_nbformat": 4,
  "vscode": {
   "interpreter": {
    "hash": "b2097164ba635ebffc0e3795dc845ae25b57eedf0c1eb5773ded6aee9fc1b279"
   }
  }
 },
 "nbformat": 4,
 "nbformat_minor": 2
}
