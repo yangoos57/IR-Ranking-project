{
 "cells": [
  {
   "attachments": {},
   "cell_type": "markdown",
   "metadata": {},
   "source": [
    "### 모델별 Test 하기\n"
   ]
  },
  {
   "cell_type": "code",
   "execution_count": 1,
   "metadata": {},
   "outputs": [],
   "source": [
    "from transformers import ElectraTokenizerFast, ElectraModel\n",
    "from model import modelWithPooling\n",
    "\n",
    "# Electra Model\n",
    "model = ElectraModel.from_pretrained(\"../model/bi_encoder_finish\")\n",
    "\n",
    "bi_encoder = modelWithPooling(model)\n",
    "\n",
    "# Tokenizer\n",
    "tokenizer = ElectraTokenizerFast.from_pretrained(\"monologg/koelectra-base-v3-discriminator\")\n"
   ]
  },
  {
   "cell_type": "code",
   "execution_count": 2,
   "metadata": {},
   "outputs": [],
   "source": [
    "import pandas as pd\n",
    "import utils\n",
    "import torch\n",
    "\n",
    "raw_data = pd.read_csv(\"../data/bookList/raw_book_info_list.csv\", index_col=0)\n",
    "englist = pd.read_csv(\"../data/preprocess/englist.csv\")\n"
   ]
  },
  {
   "cell_type": "code",
   "execution_count": 3,
   "metadata": {},
   "outputs": [],
   "source": [
    "def tokenizing_function(text, max_length=128):\n",
    "    token = tokenizer(\n",
    "        text,\n",
    "        truncation=True,\n",
    "        padding=True,\n",
    "        max_length=max_length,\n",
    "        stride=20,\n",
    "        return_overflowing_tokens=True,\n",
    "        return_tensors=\"pt\",\n",
    "    )\n",
    "    token.pop(\"overflow_to_sample_mapping\")\n",
    "    return token\n"
   ]
  },
  {
   "cell_type": "code",
   "execution_count": 4,
   "metadata": {},
   "outputs": [
    {
     "name": "stdout",
     "output_type": "stream",
     "text": [
      "변환한 도서정보 :  그림과 실습으로 배우는 도커 & 쿠버네티스\n",
      "변환한 도서정보 :  허팝만 따라 해봐! 유튜브 정석\n"
     ]
    },
    {
     "ename": "",
     "evalue": "",
     "output_type": "error",
     "traceback": [
      "\u001b[1;31m현재 셀 또는 이전 셀에서 코드를 실행하는 동안 Kernel이 충돌했습니다. 셀의 코드를 검토하여 오류의 가능한 원인을 식별하세요. 자세한 내용을 보려면 <a href='https://aka.ms/vscodeJupyterKernelCrash'> 여기 </a> 를 클릭하세요. 자세한 내용은 Jupyter <a href='command:jupyter.viewOutput'>로그</a>를 참조하세요."
     ]
    },
    {
     "ename": "",
     "evalue": "",
     "output_type": "error",
     "traceback": [
      "\u001b[1;31mCanceled future for execute_request message before replies were done"
     ]
    }
   ],
   "source": [
    "i = 3\n",
    "j = 282\n",
    "docs_str_1 = utils.merge_series_to_str(raw_data.iloc[i])\n",
    "docs_str_1 = utils.trans_eng_to_han(docs_str_1, englist=englist)\n",
    "\n",
    "docs_str_1 = ' '.join(docs_str_1)\n",
    "\n",
    "docs_str_2 = utils.merge_series_to_str(raw_data.iloc[j])\n",
    "\n",
    "token_1 = tokenizing_function(docs_str_1)\n",
    "\n",
    "token_2 = tokenizing_function(docs_str_2)\n",
    "\n",
    "sen_embedding = bi_encoder(**token_1)[\"sentence_embedding\"].detach()\n",
    "\n",
    "doc_embedding = torch.sum(sen_embedding, dim=0) / sen_embedding.size(0)\n",
    "\n",
    "print(torch.sum(doc_embedding.unsqueeze(0)))\n"
   ]
  },
  {
   "cell_type": "code",
   "execution_count": null,
   "metadata": {},
   "outputs": [
    {
     "data": {
      "text/plain": [
       "'그림과 실습으로 배우는 도커 쿠버네티스 도커란 무엇인가 안개 속에 숨겨진 도커의 정체는 데이터나 프로그램을 독립된 환경에 격리해야 하는 이유 프로그램의 격리란 서버와 도커 서버의 두 가지 의미 컨테이너를 이용해 여러 가지 서버 기능을 안전하게 함께 실행하기 자유로이 옮길 수 있는 컨테이너 장 도커의 동작 원리 도커의 동작 원리 도커의 구조 도커는 기본적으로 리눅스용 이다 도커 허브와 이미지 그리고 컨테이너 이미지와 컨테이너 도커 허브와 도커 이미지 도커 컨테이너의 생애주기와 데이터 저장 도커 컨테이너는 쓰고 버리는 일회용품 데이터 저장 도커의 장점과 단점 도커의 구조와 성질 및 그 장단점 도커의 장점과 단점 도커의 주 용도 장 도커를 사용해보자 도커를 사용하려면 도커는 기본적으로 리눅스용이지만 윈도우와 macOS에서도 사용할 수 있다 윈도우용 macOS용 도커 사용하기 도커를 실행하기 위한 조건 도커 설치 도커는 간단히 설치할 수 있다 윈도우용 도커 데스크톱을 설치하자 도커 데스크톱의 첫 실행 및 화면 확인 도커 데스크톱의 화면 확인 도커의 조작 방법과 명령 프롬프트 및 터미널 실행 도커는 명령 프롬프트 또는 터미널에서 다룬다 명령 프롬프트 및 터미널에 대해 주의할 점 실습 명령 프롬프트와 터미널을 사용해보자 장 컨테이너를 실행해 보자 도커 엔진 시작하기 종료하기 도커 엔진을 시작 종료하는 방법 컨테이너의 기본적인 사용 방법 컨테이너 사용의 기본은 도커 명령어 기본적인 명령어 정리 실습 간단한 명령어를 사용해 보자 대표적인 명령어 컨테이너의 생성과 삭제 실행 정지 도커 run 커맨드와 도커 stop 도커 rm 커맨드 도커 ps 커맨드 실습 컨테이너를 생성하고 실행 상태 확인 종료 삭제해 보자 컨테이너의 통신 아파치란 컨테이너와 통신하려면 실습 통신이 가능한 컨테이너 생성 컨테이너 생성에 익숙해지기 다양한 유형의 컨테이너 실습 아파치 컨테이너를 여러 개 실행하기 실습 Nginx 컨테이너 실행하기 실습 MySQL 컨테이너 실행하기 이미지 삭제 이미지 삭제 도커 image rm 커맨드 도커 image ls 커맨드 실습 이미지 삭제하기 장 여러 개의 컨테이너를 연동해 실행해보자 워드프레스 구축 워드프레스 사이트 구성 및 구축 도커 네트워크 생성 삭제 MySQL 컨테이너 실행 시에 필요한 옵션과 인자 워드프레스 컨테이너 실행 시 필요한 옵션과 인자 워드프레스 및 MySQL 컨테이너 생성과 연동 이번 절의 실습 내용과 사용할 커맨드 워드프레스와 MySQL 컨테이너 생성 및 실행 명령어를 직접 작성하자 소프트웨어와 데이터베이스의 관계 run 커맨드를 직접 작성하는 방법 레드마인 및 마리아DB 컨테이너를 대상으로 연습하자 레드마인 및 MySQL 컨테이너 생성 레드마인 및 마리아DB 컨테이너 만들기 장 실전에 활용 가능한 컨테이너 사용법을 익히자 내게 필요한 지식이 무엇인지 정리하기 자신의 역할에 따라 알아야 할 지식이 달라진다 앞으로 설명할 도커 기술 컨테이너와 호스트 간에 파일 복사하기 파일 복사 실습 호스트의 파일을 컨테이너 속으로 복사 실습 컨테이너의 파일을 호스트로 복사 볼륨 마운트 볼륨과 마운트 스토리지 마운트의 종류 스토리지 영역을 마운트하는 커맨드 실습 바인드 마운트해보기 실습 응용편 볼륨 마운트해보기 컨테이너로 이미지 만들기 컨테이너로 이미지를 만드는 방법 실습 commit 커맨드로 컨테이너를 이미지로 변환 실습 Dockerfile 스크립트로 이미지 만들기 컨테이너 개조 컨테이너의 개조란 도커의 구조 도커 엔진을 통해야 하는 명령과 컨테이너 안에서 실행해야 하는 명령 도커 허브 등록 및 로그인 이미지는 어디서 내려받는 걸까 도커 허브와 도커 레지스트리 태그와 이미지 업로드 레지스트리를 만드는 방법 장 도커 컴포즈를 익히자 도커 컴포즈란 도커 컴포즈란 도커 컴포즈의 설치와 사용법 실습 도커 컴포즈 설치 도커 컴포즈의 사용법 도커 컴포즈 파일을 작성하는 법 도커 컴포즈 정의 파일의 내용 살펴보기 컴포즈 파일 정의 파일 을 작성하는 방법 실습 컴포즈 파일 작성 도커 컴포즈 실행 도커 컴포즈 커맨드 실습 도커 컴포즈 실행 장 쿠버네티스를 익히자 쿠버네티스란 쿠버네티스란 마스터 노드와 워커 노드 클러스터의 구성 마스터 노드와 워커 노드 쿠버네티스는 항상 바람직한 상태를 유지한다 쿠버네티스의 구성과 관련 용어 쿠버네티스의 구성과 관련된 용어 파드 서비스 디플로이먼트 레플리카세트 그 밖의 쿠버네티스 리소스 쿠버네티스 설치 및 사용법 쿠버네티스의 종류 어떤 종류의 쿠버네티스를 사용할까 실습 도커 데스크톱의 쿠버네티스 준비 매니페스트 파일 정의 파일 작성 매니페스트 파일이란 매니페스트 파일로 작성할 내용 메타데이터와 스펙 작성 파드 실습 매니페스트 파일 작성 파드 메타데이터와 스펙 작성 디플로이먼트 실습 매니페스트 파일 정의 파일 작성 디플로이먼트 메타데이터와 스펙 작성 서비스 실습 매니페스트 파일 작성 서비스 쿠버네티스 명령어 쿠버네티스 명령어 실습 매니페스트 파일로 파드 생성 디플로이먼트 실습 매니페스트 파일로 파드 생성 서비스 쿠버네티스를 연습하자 실습 매니페스트 파일로 파드의 개수 늘리기 실습 매니페스트 파일로 아파치를 nginx로 바꾸기 실습 수동으로 파드를 삭제한 후 자동복구되는지 확인 실습 생성했던 디플로이먼트와 서비스 삭제 저자 후기 부록 윈도우용 설치 관련 정보 실습 윈도우의 비트 비트 여부 및 버전 확인 macOS용 도커 데스크톱 설치 방법 실습 macOS에서 도커 데스크톱 설치 리눅스용 도커 설치 실습 리눅스 설치 실습 도커 설치 VirtualBox의 포트 포워딩 설정 리눅스용 nano 에디터의 사용법 리눅스용 쿠버네티스 설치 실습 kubectl 설치 실습 Minikube 설치 도커 데스크톱 콘솔의 사용법 도커 커맨드 VirtualBox를 이용한 실습 준비 실습 VirtualBox 실습 준비 VirtualBox 설치 실습 VirtualBox 실습 준비 가상 머신 만들기 실습 VirtualBox 실습 준비 ISO 이미지 마운트 및 미세 조정 실습 VirtualBox 실습 준비 리눅스 우분투 설치 AWS를 이용한 실습 준비 실습 아마존 가상 머신에 우분투 설치 이 책은 컨테이너 기술이 어렵게 느껴지는 엔지니어나 백엔드 기술에 자신이 없는 분들을 위한 도커 입문서입니다 자세한 그림과 친절한 실습을 통해 리눅스 지식이나 서버 구축 경험이 없어도 컨테이너와 도커 쿠버네티스에 대한 지식을 쉽게 이해할 수 있습니다 도커의 개념부터 동작 방식 명령어 사용법 컨테이너 운용 나아가 도커 컴포즈와 쿠버네티스까지 컨테이너 기술에 대한 배경지식이 전혀 없는 분들도 도커와 쿠버네티스의 개념과 기초 사용법을 익힐 수 있도록 안내합니다 도커나 쿠버네티스를 배우고 싶은 초보자라면 철저하게 입문자의 눈높이에 맞춘 이 책으로 도커의 세계에 첫발을 내디뎌 보세요'"
      ]
     },
     "execution_count": 62,
     "metadata": {},
     "output_type": "execute_result"
    }
   ],
   "source": [
    "docs_str_1"
   ]
  },
  {
   "cell_type": "code",
   "execution_count": 1,
   "metadata": {},
   "outputs": [
    {
     "ename": "NameError",
     "evalue": "name 'torch' is not defined",
     "output_type": "error",
     "traceback": [
      "\u001b[0;31m---------------------------------------------------------------------------\u001b[0m",
      "\u001b[0;31mNameError\u001b[0m                                 Traceback (most recent call last)",
      "\u001b[1;32m/Users/yangwoolee/git_repo/IR-Ranking-project/3.Docs_Clustering/Model_test copy.ipynb 셀 7\u001b[0m in \u001b[0;36m<cell line: 2>\u001b[0;34m()\u001b[0m\n\u001b[1;32m      <a href='vscode-notebook-cell:/Users/yangwoolee/git_repo/IR-Ranking-project/3.Docs_Clustering/Model_test%20copy.ipynb#W6sZmlsZQ%3D%3D?line=0'>1</a>\u001b[0m lst \u001b[39m=\u001b[39m []\n\u001b[1;32m      <a href='vscode-notebook-cell:/Users/yangwoolee/git_repo/IR-Ranking-project/3.Docs_Clustering/Model_test%20copy.ipynb#W6sZmlsZQ%3D%3D?line=1'>2</a>\u001b[0m \u001b[39mfor\u001b[39;00m i \u001b[39min\u001b[39;00m \u001b[39mrange\u001b[39m(\u001b[39m1\u001b[39m, \u001b[39m6\u001b[39m):\n\u001b[0;32m----> <a href='vscode-notebook-cell:/Users/yangwoolee/git_repo/IR-Ranking-project/3.Docs_Clustering/Model_test%20copy.ipynb#W6sZmlsZQ%3D%3D?line=2'>3</a>\u001b[0m     x \u001b[39m=\u001b[39m torch\u001b[39m.\u001b[39mload(\u001b[39mf\u001b[39m\u001b[39m\"\u001b[39m\u001b[39msave/bi_encoder_doc_\u001b[39m\u001b[39m{\u001b[39;00mi\u001b[39m}\u001b[39;00m\u001b[39m.pt\u001b[39m\u001b[39m\"\u001b[39m, map_location\u001b[39m=\u001b[39mtorch\u001b[39m.\u001b[39mdevice(\u001b[39m\"\u001b[39m\u001b[39mcpu\u001b[39m\u001b[39m\"\u001b[39m))\n\u001b[1;32m      <a href='vscode-notebook-cell:/Users/yangwoolee/git_repo/IR-Ranking-project/3.Docs_Clustering/Model_test%20copy.ipynb#W6sZmlsZQ%3D%3D?line=3'>4</a>\u001b[0m     x \u001b[39m=\u001b[39m pd\u001b[39m.\u001b[39mDataFrame(x)\n\u001b[1;32m      <a href='vscode-notebook-cell:/Users/yangwoolee/git_repo/IR-Ranking-project/3.Docs_Clustering/Model_test%20copy.ipynb#W6sZmlsZQ%3D%3D?line=4'>5</a>\u001b[0m     lst\u001b[39m.\u001b[39mappend(x)\n",
      "\u001b[0;31mNameError\u001b[0m: name 'torch' is not defined"
     ]
    }
   ],
   "source": [
    "lst = []\n",
    "for i in range(1, 6):\n",
    "    x = torch.load(f\"save/bi_encoder_doc_{i}.pt\", map_location=torch.device(\"cpu\"))\n",
    "    x = pd.DataFrame(x)\n",
    "    lst.append(x)\n",
    "\n",
    "\n",
    "y = pd.concat(lst, axis=0)\n"
   ]
  },
  {
   "cell_type": "code",
   "execution_count": 29,
   "metadata": {},
   "outputs": [
    {
     "data": {
      "text/plain": [
       "tensor(-14.8702)"
      ]
     },
     "execution_count": 29,
     "metadata": {},
     "output_type": "execute_result"
    }
   ],
   "source": [
    "torch.sum(y[\"rep_embedding\"].iloc[3])\n"
   ]
  }
 ],
 "metadata": {
  "kernelspec": {
   "display_name": "Python 3",
   "language": "python",
   "name": "python3"
  },
  "language_info": {
   "codemirror_mode": {
    "name": "ipython",
    "version": 3
   },
   "file_extension": ".py",
   "mimetype": "text/x-python",
   "name": "python",
   "nbconvert_exporter": "python",
   "pygments_lexer": "ipython3",
   "version": "3.9.1"
  },
  "orig_nbformat": 4,
  "vscode": {
   "interpreter": {
    "hash": "b2097164ba635ebffc0e3795dc845ae25b57eedf0c1eb5773ded6aee9fc1b279"
   }
  }
 },
 "nbformat": 4,
 "nbformat_minor": 2
}
