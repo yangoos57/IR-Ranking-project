{
 "cells": [
  {
   "cell_type": "code",
   "execution_count": null,
   "metadata": {},
   "outputs": [],
   "source": [
    "from transformers import ElectraModel, ElectraTokenizerFast\n",
    "from sklearn.metrics.pairwise import cosine_similarity\n",
    "from model import modelWithPooling\n",
    "import pandas as pd\n",
    "import numpy as np\n",
    "import torch\n",
    "\n",
    "\n",
    "model = ElectraModel.from_pretrained(\"../model/disc_book_final\")\n",
    "tokenizer = ElectraTokenizerFast.from_pretrained(\"monologg/koelectra-base-v3-discriminator\")\n",
    "\n",
    "model_with_pooling = modelWithPooling(model, tokenizer).to('mps')\n"
   ]
  },
  {
   "cell_type": "code",
   "execution_count": null,
   "metadata": {},
   "outputs": [],
   "source": [
    "data =  pd.read_csv('../data/bookList/pre_book_total_128.csv',index_col=0)['sen'].values"
   ]
  },
  {
   "cell_type": "code",
   "execution_count": null,
   "metadata": {},
   "outputs": [],
   "source": [
    "from datasets import Dataset\n",
    "from torch.utils.data import DataLoader\n",
    "from tqdm.notebook import tqdm\n",
    "dataset = Dataset.from_pandas(pd.DataFrame(data, columns=['sen']))\n",
    "\n",
    "def tokenizing_function(batch) :\n",
    "    lst = []\n",
    "    for i in batch :\n",
    "        lst.append(i['sen'])\n",
    "\n",
    "    return tokenizer(lst,truncation=True,padding=True,return_tensors='pt')\n",
    "    \n",
    "\n",
    "dataloader = DataLoader(dataset,32,collate_fn=tokenizing_function)\n",
    "\n",
    "model_with_pooling.eval()\n",
    "\n",
    "lst = []\n",
    "for num, item in enumerate(tqdm(dataloader)) :\n",
    "    item.to('mps')\n",
    "    x = model_with_pooling(**item)['sentence_embedding'].detach()\n",
    "    lst.append(x)\n",
    "    if num % 1000 == 0 and num != 0 :    \n",
    "        torch.save(torch.cat(lst),f'save/embedding_{num}.pt')\n",
    "        lst.clear()"
   ]
  },
  {
   "cell_type": "code",
   "execution_count": null,
   "metadata": {},
   "outputs": [],
   "source": []
  }
 ],
 "metadata": {
  "kernelspec": {
   "display_name": "Python 3",
   "language": "python",
   "name": "python3"
  },
  "language_info": {
   "codemirror_mode": {
    "name": "ipython",
    "version": 3
   },
   "file_extension": ".py",
   "mimetype": "text/x-python",
   "name": "python",
   "nbconvert_exporter": "python",
   "pygments_lexer": "ipython3",
   "version": "3.9.1"
  },
  "orig_nbformat": 4,
  "vscode": {
   "interpreter": {
    "hash": "b2097164ba635ebffc0e3795dc845ae25b57eedf0c1eb5773ded6aee9fc1b279"
   }
  }
 },
 "nbformat": 4,
 "nbformat_minor": 2
}
