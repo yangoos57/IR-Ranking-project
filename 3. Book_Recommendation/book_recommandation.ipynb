{
 "cells": [
  {
   "attachments": {},
   "cell_type": "markdown",
   "metadata": {},
   "source": [
    "### Bi Encoder, Cross Encoder 불러오기\n"
   ]
  },
  {
   "cell_type": "code",
   "execution_count": 2,
   "metadata": {},
   "outputs": [],
   "source": [
    "from transformers import ElectraTokenizerFast, ElectraModel, ElectraForSequenceClassification\n",
    "from sklearn.metrics.pairwise import cosine_similarity\n",
    "from model import SentenceBert\n",
    "import pandas as pd\n",
    "import numpy as np\n",
    "import utils\n",
    "import torch\n",
    "\n",
    "# Bi_Encoder\n",
    "model = ElectraModel.from_pretrained(\"../model/bi_encoder_finish\")\n",
    "bi_encoder = SentenceBert(model)\n",
    "\n",
    "# Cross_Encoder\n",
    "cross_encoder = ElectraForSequenceClassification.from_pretrained(\"../model/cross_encoder_STS\")\n",
    "\n",
    "# Tokenizer\n",
    "tokenizer = ElectraTokenizerFast.from_pretrained(\"monologg/koelectra-base-v3-discriminator\")\n"
   ]
  },
  {
   "cell_type": "markdown",
   "metadata": {},
   "source": [
    "### Data 불러오기"
   ]
  },
  {
   "cell_type": "code",
   "execution_count": 3,
   "metadata": {},
   "outputs": [
    {
     "data": {
      "text/html": [
       "<div>\n",
       "<style scoped>\n",
       "    .dataframe tbody tr th:only-of-type {\n",
       "        vertical-align: middle;\n",
       "    }\n",
       "\n",
       "    .dataframe tbody tr th {\n",
       "        vertical-align: top;\n",
       "    }\n",
       "\n",
       "    .dataframe thead th {\n",
       "        text-align: right;\n",
       "    }\n",
       "</style>\n",
       "<table border=\"1\" class=\"dataframe\">\n",
       "  <thead>\n",
       "    <tr style=\"text-align: right;\">\n",
       "      <th></th>\n",
       "      <th>book_title</th>\n",
       "      <th>book_toc</th>\n",
       "      <th>book_intro</th>\n",
       "      <th>publisher</th>\n",
       "    </tr>\n",
       "  </thead>\n",
       "  <tbody>\n",
       "    <tr>\n",
       "      <th>0</th>\n",
       "      <td>한 권으로 끝내는 메타버스 크리에이터</td>\n",
       "      <td>['메타버스란', '왜 메타버스인가', '메타버스의 유형을 알아보자', '메타버스 ...</td>\n",
       "      <td>[]</td>\n",
       "      <td>[]</td>\n",
       "    </tr>\n",
       "    <tr>\n",
       "      <th>1</th>\n",
       "      <td>Do it! 점프 투 파이썬: 라이브러리 예제 편</td>\n",
       "      <td>['', '텍스트 다루기', '문자열을 줄여 표시하려면 textwrap shorte...</td>\n",
       "      <td>['이 책은 Do it 점프 투 파이썬 의 박응용 저자가 그동안 수많은 독자에게 받...</td>\n",
       "      <td>['실무에서 자주 쓰는 파이썬 라이브러리는 다 있다 필수 파이썬 라이브러리 개 엄선...</td>\n",
       "    </tr>\n",
       "    <tr>\n",
       "      <th>2</th>\n",
       "      <td>도메인 주도 설계 첫걸음</td>\n",
       "      <td>['장 비즈니스 도메인 분석하기', '비즈니스 도메인이란', '하위 도메인이란', ...</td>\n",
       "      <td>['소프트웨어 개발은 예전보다 어렵다', '개발자로서 지속적으로 변화하는 기술 트렌...</td>\n",
       "      <td>[]</td>\n",
       "    </tr>\n",
       "    <tr>\n",
       "      <th>3</th>\n",
       "      <td>그림과 실습으로 배우는 도커 &amp; 쿠버네티스</td>\n",
       "      <td>['도커란 무엇인가', '안개 속에 숨겨진 도커의 정체는', '데이터나 프로그램을 ...</td>\n",
       "      <td>['이 책은 컨테이너 기술이 어렵게 느껴지는 엔지니어나 백엔드 기술에 자신이 없는 ...</td>\n",
       "      <td>[]</td>\n",
       "    </tr>\n",
       "    <tr>\n",
       "      <th>4</th>\n",
       "      <td>눈 떠보니 메타버스 마스터</td>\n",
       "      <td>['메타버스란', '메타버스의 활용 사례', '순천향대학교 입학식 이프랜드', 'S...</td>\n",
       "      <td>['메타버스 플랫폼', '이프랜드 제페토 게더타운 활용 가이드', '메타버스의 사례...</td>\n",
       "      <td>['불과 얼마 전만 해도 우리는 SF 영화를 넋 놓고 보면서 이게 영화가 아니라 현...</td>\n",
       "    </tr>\n",
       "  </tbody>\n",
       "</table>\n",
       "</div>"
      ],
      "text/plain": [
       "                    book_title  \\\n",
       "0         한 권으로 끝내는 메타버스 크리에이터   \n",
       "1  Do it! 점프 투 파이썬: 라이브러리 예제 편   \n",
       "2                도메인 주도 설계 첫걸음   \n",
       "3      그림과 실습으로 배우는 도커 & 쿠버네티스   \n",
       "4               눈 떠보니 메타버스 마스터   \n",
       "\n",
       "                                            book_toc  \\\n",
       "0  ['메타버스란', '왜 메타버스인가', '메타버스의 유형을 알아보자', '메타버스 ...   \n",
       "1  ['', '텍스트 다루기', '문자열을 줄여 표시하려면 textwrap shorte...   \n",
       "2  ['장 비즈니스 도메인 분석하기', '비즈니스 도메인이란', '하위 도메인이란', ...   \n",
       "3  ['도커란 무엇인가', '안개 속에 숨겨진 도커의 정체는', '데이터나 프로그램을 ...   \n",
       "4  ['메타버스란', '메타버스의 활용 사례', '순천향대학교 입학식 이프랜드', 'S...   \n",
       "\n",
       "                                          book_intro  \\\n",
       "0                                                 []   \n",
       "1  ['이 책은 Do it 점프 투 파이썬 의 박응용 저자가 그동안 수많은 독자에게 받...   \n",
       "2  ['소프트웨어 개발은 예전보다 어렵다', '개발자로서 지속적으로 변화하는 기술 트렌...   \n",
       "3  ['이 책은 컨테이너 기술이 어렵게 느껴지는 엔지니어나 백엔드 기술에 자신이 없는 ...   \n",
       "4  ['메타버스 플랫폼', '이프랜드 제페토 게더타운 활용 가이드', '메타버스의 사례...   \n",
       "\n",
       "                                           publisher  \n",
       "0                                                 []  \n",
       "1  ['실무에서 자주 쓰는 파이썬 라이브러리는 다 있다 필수 파이썬 라이브러리 개 엄선...  \n",
       "2                                                 []  \n",
       "3                                                 []  \n",
       "4  ['불과 얼마 전만 해도 우리는 SF 영화를 넋 놓고 보면서 이게 영화가 아니라 현...  "
      ]
     },
     "execution_count": 3,
     "metadata": {},
     "output_type": "execute_result"
    }
   ],
   "source": [
    "# Load Data\n",
    "raw_data = pd.read_csv(\"../data/bookList/raw_book_info_list.csv\", index_col=0)\n",
    "englist = pd.read_csv(\"../data/preprocess/englist.csv\")\n",
    "\n",
    "\n",
    "# Bi eoncoder 전용 Tokenizer\n",
    "def tokenizing_function_for_bi_encoder(text, max_length=128):\n",
    "    token = tokenizer(\n",
    "        text,\n",
    "        truncation=True,\n",
    "        padding=True,\n",
    "        max_length=max_length,\n",
    "        stride=20,\n",
    "        return_overflowing_tokens=True,\n",
    "        return_tensors=\"pt\",\n",
    "    )\n",
    "    token.pop(\"overflow_to_sample_mapping\")\n",
    "    return token\n",
    "\n",
    "\n",
    "raw_data.head(5)\n"
   ]
  },
  {
   "attachments": {},
   "cell_type": "markdown",
   "metadata": {},
   "source": [
    "### `그림과 실습으로 배우는 도커 & 쿠버네티스` 도서와 연관있는 도서 추출"
   ]
  },
  {
   "attachments": {},
   "cell_type": "markdown",
   "metadata": {},
   "source": [
    " Bi Encoder로 `그림과 실습으로 배우는 도커 & 쿠버네티스` 도서 Embedding 추출\n",
    "\n"
   ]
  },
  {
   "cell_type": "code",
   "execution_count": 4,
   "metadata": {},
   "outputs": [
    {
     "name": "stdout",
     "output_type": "stream",
     "text": [
      "변환한 도서정보 :  그림과 실습으로 배우는 도커 & 쿠버네티스\n"
     ]
    }
   ],
   "source": [
    "i = 3\n",
    "query = utils.merge_series_to_str(raw_data.iloc[i], print_on=True)\n",
    "query = utils.trans_eng_to_han(query, englist=englist)\n",
    "query = \" \".join(query)\n",
    "\n",
    "# Embedding 추출\n",
    "token_1 = tokenizing_function_for_bi_encoder(query)\n",
    "sen_embedding = bi_encoder(**token_1)[\"sentence_embedding\"].detach()\n",
    "query_embedding = torch.sum(sen_embedding, dim=0) / sen_embedding.size(0)\n"
   ]
  },
  {
   "attachments": {},
   "cell_type": "markdown",
   "metadata": {},
   "source": [
    "도서 전체 Embedding 불러오기\n"
   ]
  },
  {
   "cell_type": "code",
   "execution_count": 5,
   "metadata": {},
   "outputs": [
    {
     "data": {
      "text/html": [
       "<div>\n",
       "<style scoped>\n",
       "    .dataframe tbody tr th:only-of-type {\n",
       "        vertical-align: middle;\n",
       "    }\n",
       "\n",
       "    .dataframe tbody tr th {\n",
       "        vertical-align: top;\n",
       "    }\n",
       "\n",
       "    .dataframe thead th {\n",
       "        text-align: right;\n",
       "    }\n",
       "</style>\n",
       "<table border=\"1\" class=\"dataframe\">\n",
       "  <thead>\n",
       "    <tr style=\"text-align: right;\">\n",
       "      <th></th>\n",
       "      <th>title</th>\n",
       "      <th>rep_embedding</th>\n",
       "    </tr>\n",
       "  </thead>\n",
       "  <tbody>\n",
       "    <tr>\n",
       "      <th>0</th>\n",
       "      <td>한 권으로 끝내는 메타버스 크리에이터</td>\n",
       "      <td>[[tensor(0.6947), tensor(0.1192), tensor(-0.46...</td>\n",
       "    </tr>\n",
       "    <tr>\n",
       "      <th>1</th>\n",
       "      <td>Do it! 점프 투 파이썬: 라이브러리 예제 편</td>\n",
       "      <td>[[tensor(0.5697), tensor(-0.0356), tensor(-0.5...</td>\n",
       "    </tr>\n",
       "    <tr>\n",
       "      <th>2</th>\n",
       "      <td>도메인 주도 설계 첫걸음</td>\n",
       "      <td>[[tensor(0.7111), tensor(0.0659), tensor(-0.48...</td>\n",
       "    </tr>\n",
       "    <tr>\n",
       "      <th>3</th>\n",
       "      <td>그림과 실습으로 배우는 도커 &amp; 쿠버네티스</td>\n",
       "      <td>[[tensor(0.6220), tensor(-0.0605), tensor(-0.4...</td>\n",
       "    </tr>\n",
       "    <tr>\n",
       "      <th>4</th>\n",
       "      <td>눈 떠보니 메타버스 마스터</td>\n",
       "      <td>[[tensor(0.6649), tensor(0.1309), tensor(-0.53...</td>\n",
       "    </tr>\n",
       "  </tbody>\n",
       "</table>\n",
       "</div>"
      ],
      "text/plain": [
       "                         title  \\\n",
       "0         한 권으로 끝내는 메타버스 크리에이터   \n",
       "1  Do it! 점프 투 파이썬: 라이브러리 예제 편   \n",
       "2                도메인 주도 설계 첫걸음   \n",
       "3      그림과 실습으로 배우는 도커 & 쿠버네티스   \n",
       "4               눈 떠보니 메타버스 마스터   \n",
       "\n",
       "                                       rep_embedding  \n",
       "0  [[tensor(0.6947), tensor(0.1192), tensor(-0.46...  \n",
       "1  [[tensor(0.5697), tensor(-0.0356), tensor(-0.5...  \n",
       "2  [[tensor(0.7111), tensor(0.0659), tensor(-0.48...  \n",
       "3  [[tensor(0.6220), tensor(-0.0605), tensor(-0.4...  \n",
       "4  [[tensor(0.6649), tensor(0.1309), tensor(-0.53...  "
      ]
     },
     "execution_count": 5,
     "metadata": {},
     "output_type": "execute_result"
    }
   ],
   "source": [
    "lst = []\n",
    "for i in range(1, 6):\n",
    "    x = torch.load(f\"save/bi_encoder_doc_{i}.pt\", map_location=torch.device(\"cpu\"))\n",
    "    x = pd.DataFrame(x)\n",
    "    lst.append(x)\n",
    "\n",
    "\n",
    "y = pd.concat(lst, axis=0).reset_index(drop=True)\n",
    "\n",
    "\n",
    "y.head(5)\n",
    "\n",
    "# rep_embedding : 도서 정보를 담은 embedding\n"
   ]
  },
  {
   "attachments": {},
   "cell_type": "markdown",
   "metadata": {},
   "source": [
    "`그림과 실습으로 배우는 도커 & 쿠버네티스` Embedding과 도서 전체 Embedding 비교하여 후보군 선정"
   ]
  },
  {
   "cell_type": "code",
   "execution_count": 6,
   "metadata": {},
   "outputs": [
    {
     "data": {
      "text/plain": [
       "1009                    따라하며 배우는 도커와 CI 환경\n",
       "3287                         리눅스 서버 관리 바이블\n",
       "1368               타입스크립트, AWS 서버리스로 들어올리다\n",
       "419                초보를 위한 젠킨스 2 활용 가이드 2/e\n",
       "3274                          오픈스택을 다루는 기술\n",
       "4713         Windows Server Container 시작하기\n",
       "3580                         도커, 컨테이너 빌드업!\n",
       "4337    Windows Server 2016 Hyper-V 쿡북 2/e\n",
       "3535                  빠르게 훑어보는 구글 클라우드 플랫폼\n",
       "3358           파이썬을 이용한 머신러닝, 딥러닝 실전 개발 입문\n",
       "Name: book_title, dtype: object"
      ]
     },
     "execution_count": 6,
     "metadata": {},
     "output_type": "execute_result"
    }
   ],
   "source": [
    "data = y[\"rep_embedding\"].values.tolist()\n",
    "data = torch.cat(data)\n",
    "\n",
    "cos_sim = cosine_similarity(query_embedding.unsqueeze(0), data)\n",
    "\n",
    "idx = np.argsort(cos_sim)[0][::-1]\n",
    "raw_data.iloc[idx][\"book_title\"][1:11]\n"
   ]
  },
  {
   "attachments": {},
   "cell_type": "markdown",
   "metadata": {},
   "source": [
    "### Cross Encoder로 후보군 ReRanking하기\n"
   ]
  },
  {
   "cell_type": "code",
   "execution_count": 7,
   "metadata": {},
   "outputs": [
    {
     "name": "stdout",
     "output_type": "stream",
     "text": [
      "huggingface/tokenizers: The current process just got forked, after parallelism has already been used. Disabling parallelism to avoid deadlocks...\n",
      "To disable this warning, you can either:\n",
      "\t- Avoid using `tokenizers` before the fork if possible\n",
      "\t- Explicitly set the environment variable TOKENIZERS_PARALLELISM=(true | false)\n"
     ]
    },
    {
     "data": {
      "application/vnd.jupyter.widget-view+json": {
       "model_id": "4f4fa0cf939b43e88b7cecef5f234a51",
       "version_major": 2,
       "version_minor": 0
      },
      "text/plain": [
       "  0%|          | 0/19 [00:00<?, ?it/s]"
      ]
     },
     "metadata": {},
     "output_type": "display_data"
    },
    {
     "data": {
      "text/plain": [
       "[(0.76013, '초보를 위한 젠킨스 2 활용 가이드 2/e'),\n",
       " (0.75422, '도커, 컨테이너 빌드업!'),\n",
       " (0.73951, '따라하며 배우는 도커와 CI 환경'),\n",
       " (0.73613, '헬름 배우기'),\n",
       " (0.72709, '서비스 운영이 쉬워지는 AWS 인프라 구축 가이드')]"
      ]
     },
     "execution_count": 7,
     "metadata": {},
     "output_type": "execute_result"
    }
   ],
   "source": [
    "from tqdm.notebook import tqdm\n",
    "\n",
    "\n",
    "def rerank_candidates(\n",
    "    query: str, candidates: pd.DataFrame, top_k=10, max_length=256, sentence_n=4\n",
    ") -> list:\n",
    "    \"\"\"\n",
    "    query : 찾고자 하는 도서 정보\n",
    "    candidates : query와 유사한 도서 정보\n",
    "    top_k : 상위 k개 정보만 추출\n",
    "    max_length : 도서 비교 시 활용될 문장 길이\n",
    "    sentence_n : 도서 비교 시 활용될 문장 개수\n",
    "    \"\"\"\n",
    "\n",
    "    lst = []\n",
    "    for i in tqdm(range(1, len(candidates))):\n",
    "\n",
    "        # 후보군 전처리\n",
    "        candidate = utils.merge_series_to_str(candidates.iloc[i])\n",
    "        candidate = utils.trans_eng_to_han(candidate, englist=englist)\n",
    "        candidate = \" \".join(candidate)\n",
    "\n",
    "        # Tokenzing\n",
    "        token = tokenizer(\n",
    "            query,\n",
    "            candidate,\n",
    "            return_tensors=\"pt\",\n",
    "            max_length=max_length,\n",
    "            truncation=True,\n",
    "            padding=True,\n",
    "            stride=20,\n",
    "            return_overflowing_tokens=True,\n",
    "        )\n",
    "        token.pop(\"overflow_to_sample_mapping\")\n",
    "\n",
    "        # 도서 비교에 활용 될 문장 샘플링\n",
    "        torch.manual_seed(42)\n",
    "\n",
    "        tokens = token.input_ids\n",
    "        random_int = torch.randint(0, tokens.size(0), size=(sentence_n,))\n",
    "        tokens = tokens[random_int]\n",
    "\n",
    "        # Cross Encoder로 문장 유사도 추출\n",
    "        logit = cross_encoder(tokens)[\"logits\"].detach()\n",
    "        lst.append((round(torch.mean(logit).item(), 5), candidates.iloc[i][\"book_title\"]))\n",
    "\n",
    "        # 연관성 높은 순으로 재졍렬\n",
    "    lst = sorted(lst, key=lambda x: x[0])[::-1]\n",
    "\n",
    "    return lst[:top_k]\n",
    "\n",
    "\n",
    "# Bi_encoder로 확보한 도서 정보 추출\n",
    "candidates_inform = raw_data.iloc[idx][:20]\n",
    "candidates = candidates_inform.drop(columns=[\"book_toc\"])\n",
    "\n",
    "rerank_candidates(query, candidates, top_k=5)\n"
   ]
  }
 ],
 "metadata": {
  "kernelspec": {
   "display_name": "Python 3",
   "language": "python",
   "name": "python3"
  },
  "language_info": {
   "codemirror_mode": {
    "name": "ipython",
    "version": 3
   },
   "file_extension": ".py",
   "mimetype": "text/x-python",
   "name": "python",
   "nbconvert_exporter": "python",
   "pygments_lexer": "ipython3",
   "version": "3.9.1 (default, Jun 13 2022, 17:35:03) \n[Clang 13.1.6 (clang-1316.0.21.2.5)]"
  },
  "orig_nbformat": 4,
  "vscode": {
   "interpreter": {
    "hash": "b2097164ba635ebffc0e3795dc845ae25b57eedf0c1eb5773ded6aee9fc1b279"
   }
  }
 },
 "nbformat": 4,
 "nbformat_minor": 2
}
